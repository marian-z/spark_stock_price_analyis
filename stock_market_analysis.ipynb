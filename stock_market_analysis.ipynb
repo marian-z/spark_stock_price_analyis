{
 "cells": [
  {
   "cell_type": "markdown",
   "id": "d91d7f05-2c3d-4a6c-a6fb-8469e7a962b2",
   "metadata": {},
   "source": [
    "<span style=\"font-size:30px\"> __Stock Price Analysis__"
   ]
  },
  {
   "cell_type": "markdown",
   "id": "39fbe2f7-588f-4d85-8bfc-a9a6642da9d3",
   "metadata": {},
   "source": [
    "<span style=\"font-size:25px\"> __1. Reading and Cleaning Data__"
   ]
  },
  {
   "cell_type": "code",
   "execution_count": 1,
   "id": "d426e874-3378-4246-84d2-67f908068138",
   "metadata": {},
   "outputs": [
    {
     "name": "stdout",
     "output_type": "stream",
     "text": [
      "Defaulting to user installation because normal site-packages is not writeable\n",
      "Requirement already satisfied: pyspark in /Users/marianzabka/Library/Python/3.9/lib/python/site-packages (3.5.3)\n",
      "Requirement already satisfied: py4j==0.10.9.7 in /Users/marianzabka/Library/Python/3.9/lib/python/site-packages (from pyspark) (0.10.9.7)\n",
      "Note: you may need to restart the kernel to use updated packages.\n"
     ]
    }
   ],
   "source": [
    "pip install pyspark"
   ]
  },
  {
   "cell_type": "code",
   "execution_count": 2,
   "id": "e72c693a-8d95-46cf-b466-ed553076719b",
   "metadata": {},
   "outputs": [],
   "source": [
    "import pyspark\n",
    "import pyspark.sql.functions as func\n",
    "from pyspark.sql import SparkSession\n",
    "from pyspark.sql.functions import col, to_date, regexp_replace\n",
    "from pyspark.sql.types import FloatType, IntegerType, StringType\n",
    "from pyspark.sql.window import Window "
   ]
  },
  {
   "cell_type": "code",
   "execution_count": 3,
   "id": "ab95eeb0-1249-4904-84ac-0f3ad8590d0e",
   "metadata": {},
   "outputs": [
    {
     "name": "stderr",
     "output_type": "stream",
     "text": [
      "24/10/10 15:52:10 WARN Utils: Your hostname, Marians-MacBook-Pro.local resolves to a loopback address: 127.0.0.1; using 192.168.1.23 instead (on interface en0)\n",
      "24/10/10 15:52:10 WARN Utils: Set SPARK_LOCAL_IP if you need to bind to another address\n",
      "Setting default log level to \"WARN\".\n",
      "To adjust logging level use sc.setLogLevel(newLevel). For SparkR, use setLogLevel(newLevel).\n",
      "24/10/10 15:52:10 WARN NativeCodeLoader: Unable to load native-hadoop library for your platform... using builtin-java classes where applicable\n"
     ]
    }
   ],
   "source": [
    "spark = SparkSession.builder.appName(\"StockMarketAnalysis\").getOrCreate()"
   ]
  },
  {
   "cell_type": "code",
   "execution_count": 4,
   "id": "0eb787f3-4d43-4323-a9bb-d9b41b634165",
   "metadata": {},
   "outputs": [],
   "source": [
    "# Reading CSV data\n",
    "stocks = spark.read.csv(\"/Users/marianzabka/Documents/Education/spark_local_-_stock_market_analysis/sample_data\", header=True)"
   ]
  },
  {
   "cell_type": "code",
   "execution_count": 5,
   "id": "e5bf902c-3f70-439e-a785-9ffe360f9f90",
   "metadata": {},
   "outputs": [
    {
     "name": "stdout",
     "output_type": "stream",
     "text": [
      "+------+----------+----------+-------+--------+--------+--------+\n",
      "|Ticker|      Date|Close/Last| Volume|    Open|    High|     Low|\n",
      "+------+----------+----------+-------+--------+--------+--------+\n",
      "| BRK-B|05/31/2023|  $321.08 |6175417|$321.12 |$322.41 |$319.39 |\n",
      "| BRK-B|05/30/2023|  $322.19 |3232461|$321.86 |$322.47 |$319.00 |\n",
      "| BRK-B|05/26/2023|  $320.60 |3229873|$320.44 |$322.63 |$319.67 |\n",
      "| BRK-B|05/25/2023|  $319.02 |4251935|$320.56 |$320.56 |$317.71 |\n",
      "| BRK-B|05/24/2023|  $320.20 |3075393|$322.71 |$323.00 |$319.56 |\n",
      "+------+----------+----------+-------+--------+--------+--------+\n",
      "only showing top 5 rows\n",
      "\n"
     ]
    }
   ],
   "source": [
    "# Seeing data => Dataframe\n",
    "stocks.show(5)"
   ]
  },
  {
   "cell_type": "code",
   "execution_count": 6,
   "id": "67ef620b-1698-49ee-8566-5592c90413b0",
   "metadata": {},
   "outputs": [
    {
     "name": "stdout",
     "output_type": "stream",
     "text": [
      "root\n",
      " |-- Ticker: string (nullable = true)\n",
      " |-- Date: string (nullable = true)\n",
      " |-- Close/Last: string (nullable = true)\n",
      " |-- Volume: string (nullable = true)\n",
      " |-- Open: string (nullable = true)\n",
      " |-- High: string (nullable = true)\n",
      " |-- Low: string (nullable = true)\n",
      "\n"
     ]
    }
   ],
   "source": [
    "# Seeing schema in data => Data types in Dataframe\n",
    "stocks.printSchema()"
   ]
  },
  {
   "cell_type": "code",
   "execution_count": 7,
   "id": "3b52c42b-eb40-464d-9bf7-eac03b38d273",
   "metadata": {},
   "outputs": [],
   "source": [
    "# Convert columns to appropriate data types\n",
    "cleaned_stocks = (\n",
    "    stocks.withColumn(\"Ticker\", col(\"Ticker\").cast(StringType()))\n",
    "          .withColumn(\"Date\", to_date(col(\"Date\"), 'MM/dd/yyyy'))  # Adjusted the date format\n",
    "          .withColumn(\"Year\", func.year(col(\"Date\")))\n",
    "          .withColumn(\"Month\", func.month(col(\"Date\")))\n",
    "          .withColumn(\"Day\", func.dayofmonth(col(\"Date\")))\n",
    "          .withColumn(\"Week\", func.weekofyear(col(\"Date\")))\n",
    "          .withColumn(\"Close\", regexp_replace(col(\"Close/Last\"), '[^0-9.]', '').cast(FloatType()))  # Remove non-numeric characters and cast to Float\n",
    "          .withColumn(\"Volume\", regexp_replace(col(\"Volume\"), '[^0-9]', '').cast(IntegerType()))  # Remove non-numeric characters and cast to Integer\n",
    "          .withColumn(\"Open\", regexp_replace(col(\"Open\"), '[^0-9.]', '').cast(FloatType()))  # Remove non-numeric characters and cast to Float\n",
    "          .withColumn(\"High\", regexp_replace(col(\"High\"), '[^0-9.]', '').cast(FloatType())) # Remove non-numeric characters and cast to Float\n",
    "          .withColumn(\"Low\", regexp_replace(col(\"Low\"), '[^0-9.]', '').cast(FloatType()))  # Remove non-numeric characters and cast to Float\n",
    "          .drop(\"Close/Last\")\n",
    ")"
   ]
  },
  {
   "cell_type": "code",
   "execution_count": 8,
   "id": "2759ca59-0ac0-43dd-8816-8c34a9c2065f",
   "metadata": {},
   "outputs": [
    {
     "name": "stdout",
     "output_type": "stream",
     "text": [
      "root\n",
      " |-- Ticker: string (nullable = true)\n",
      " |-- Date: date (nullable = true)\n",
      " |-- Volume: integer (nullable = true)\n",
      " |-- Open: float (nullable = true)\n",
      " |-- High: float (nullable = true)\n",
      " |-- Low: float (nullable = true)\n",
      " |-- Year: integer (nullable = true)\n",
      " |-- Month: integer (nullable = true)\n",
      " |-- Day: integer (nullable = true)\n",
      " |-- Week: integer (nullable = true)\n",
      " |-- Close: float (nullable = true)\n",
      "\n"
     ]
    }
   ],
   "source": [
    "# Verify updated schema\n",
    "cleaned_stocks.printSchema()"
   ]
  },
  {
   "cell_type": "code",
   "execution_count": 9,
   "id": "5e0d852e-f030-49fd-8e46-a888087d873d",
   "metadata": {},
   "outputs": [
    {
     "name": "stdout",
     "output_type": "stream",
     "text": [
      "+------+----------+-------+------+------+------+----+-----+---+----+------+\n",
      "|Ticker|      Date| Volume|  Open|  High|   Low|Year|Month|Day|Week| Close|\n",
      "+------+----------+-------+------+------+------+----+-----+---+----+------+\n",
      "| BRK-B|2023-05-31|6175417|321.12|322.41|319.39|2023|    5| 31|  22|321.08|\n",
      "| BRK-B|2023-05-30|3232461|321.86|322.47| 319.0|2023|    5| 30|  22|322.19|\n",
      "| BRK-B|2023-05-26|3229873|320.44|322.63|319.67|2023|    5| 26|  21| 320.6|\n",
      "| BRK-B|2023-05-25|4251935|320.56|320.56|317.71|2023|    5| 25|  21|319.02|\n",
      "| BRK-B|2023-05-24|3075393|322.71| 323.0|319.56|2023|    5| 24|  21| 320.2|\n",
      "+------+----------+-------+------+------+------+----+-----+---+----+------+\n",
      "only showing top 5 rows\n",
      "\n"
     ]
    }
   ],
   "source": [
    "# Verify data type conversion\n",
    "cleaned_stocks.show(5)"
   ]
  },
  {
   "cell_type": "code",
   "execution_count": 10,
   "id": "382fbb2d-a0c6-4218-b6ab-3261d0275ab4",
   "metadata": {},
   "outputs": [
    {
     "name": "stdout",
     "output_type": "stream",
     "text": [
      "+------+----------+---------+------+------+------+----+-----+---+----+------+\n",
      "|Ticker|      Date|   Volume|  Open|  High|   Low|Year|Month|Day|Week| Close|\n",
      "+------+----------+---------+------+------+------+----+-----+---+----+------+\n",
      "|  MSFT|2023-05-31| 45950550|332.29|335.94|327.33|2023|    5| 31|  22|328.39|\n",
      "|  TSLA|2023-05-31|150711700|199.78|203.95|195.12|2023|    5| 31|  22|203.93|\n",
      "+------+----------+---------+------+------+------+----+-----+---+----+------+\n",
      "\n"
     ]
    }
   ],
   "source": [
    "# Filterint Data => Explore Microsoft and Tesla stocks on a particular day\n",
    "cleaned_stocks.filter((cleaned_stocks.Ticker.isin([\"MSFT\", \"TSLA\"])) & (cleaned_stocks.Date == \"2023-05-31\")).show(15)\n"
   ]
  },
  {
   "cell_type": "code",
   "execution_count": 11,
   "id": "e94cfcb2-f36a-49b1-bb6f-90f7e42fcb10",
   "metadata": {},
   "outputs": [
    {
     "name": "stderr",
     "output_type": "stream",
     "text": [
      "24/10/10 15:52:37 WARN SparkStringUtils: Truncated the string representation of a plan since it was too large. This behavior can be adjusted by setting 'spark.sql.debug.maxToStringFields'.\n"
     ]
    },
    {
     "name": "stdout",
     "output_type": "stream",
     "text": [
      "+-------+--------------------+------------------+------------------+------------------+------------------+\n",
      "|summary|              Volume|              Open|               Low|              High|             Close|\n",
      "+-------+--------------------+------------------+------------------+------------------+------------------+\n",
      "|  count|               15108|             15108|             15108|             15108|             15108|\n",
      "|   mean|5.1868408793685466E7|180.09656566181036| 177.9982781513109| 182.1253348687101| 180.1256089860054|\n",
      "| stddev| 5.496484129953464E7|101.16125813324399|100.26590135955216|101.96625521621753|101.14891782168563|\n",
      "|    min|              961133|             12.07|              11.8|             12.45|             11.93|\n",
      "|    max|           914080943|            479.22|            476.06|            479.98|            477.71|\n",
      "+-------+--------------------+------------------+------------------+------------------+------------------+\n",
      "\n"
     ]
    }
   ],
   "source": [
    "# Calculating basic statistics about data\n",
    "cleaned_stocks.describe(\"Volume\", \"Open\", \"Low\", \"High\", \"Close\").show()"
   ]
  },
  {
   "cell_type": "markdown",
   "id": "8ee7a6b7-0c07-436e-835b-8112487933e3",
   "metadata": {},
   "source": [
    "<span style=\"font-size:25px\"> __2. Basic Stock Analysis__"
   ]
  },
  {
   "cell_type": "code",
   "execution_count": 12,
   "id": "b5195dde-eac6-4fb0-aa99-fe04cac93aca",
   "metadata": {},
   "outputs": [
    {
     "name": "stdout",
     "output_type": "stream",
     "text": [
      "+------+---------------+\n",
      "|Ticker|Max Stock Price|\n",
      "+------+---------------+\n",
      "| BRK-B|         361.39|\n",
      "|  MSFT|         344.62|\n",
      "|  META|         381.68|\n",
      "|  TSLA|         411.47|\n",
      "|  AAPL|         182.63|\n",
      "|  AMZN|          187.2|\n",
      "| GOOGL|         151.25|\n",
      "|  NVDA|         405.95|\n",
      "|     V|         250.05|\n",
      "|   TSM|         141.61|\n",
      "|   SPY|         479.22|\n",
      "|   QQQ|         405.57|\n",
      "+------+---------------+\n",
      "\n"
     ]
    }
   ],
   "source": [
    "# Calculate Maximum Stock Price for various stocks\n",
    "cleaned_stocks.groupBy(\"Ticker\").max(\"Open\").withColumnRenamed(\"max(Open)\",\"Max Stock Price\").show() \n"
   ]
  },
  {
   "cell_type": "code",
   "execution_count": 13,
   "id": "4b13ef6c-52a1-4d2c-96c2-83a20836b711",
   "metadata": {},
   "outputs": [
    {
     "name": "stdout",
     "output_type": "stream",
     "text": [
      "+------+---------------+\n",
      "|Ticker|Max Stock Price|\n",
      "+------+---------------+\n",
      "| BRK-B|         361.39|\n",
      "|  MSFT|         344.62|\n",
      "|  META|         381.68|\n",
      "|  TSLA|         411.47|\n",
      "|  AAPL|         182.63|\n",
      "|  AMZN|          187.2|\n",
      "| GOOGL|         151.25|\n",
      "|  NVDA|         405.95|\n",
      "|     V|         250.05|\n",
      "|   TSM|         141.61|\n",
      "|   SPY|         479.22|\n",
      "|   QQQ|         405.57|\n",
      "+------+---------------+\n",
      "\n"
     ]
    }
   ],
   "source": [
    "# Alternative way of calculating Maximum Stock Price for various stocks\n",
    "cleaned_stocks.groupBy(\"Ticker\") \\\n",
    "              .agg(func.max(\"Open\").alias(\"Max Stock Price\")) \\\n",
    "              .show() "
   ]
  },
  {
   "cell_type": "code",
   "execution_count": 14,
   "id": "7680c4c1-a798-46c1-83fb-43143c310507",
   "metadata": {},
   "outputs": [
    {
     "name": "stdout",
     "output_type": "stream",
     "text": [
      "+------+---------------+-------------------+\n",
      "|Ticker|Max Stock Price|Total Traded Volume|\n",
      "+------+---------------+-------------------+\n",
      "| BRK-B|         361.39|         5862401321|\n",
      "|  MSFT|         344.62|        37976660472|\n",
      "|  META|         381.68|        30148848043|\n",
      "|  TSLA|         411.47|       171802975076|\n",
      "|  AAPL|         182.63|       139310061360|\n",
      "|  AMZN|          187.2|       104503287430|\n",
      "| GOOGL|         151.25|        43956560981|\n",
      "|  NVDA|         405.95|        58787218324|\n",
      "|     V|         250.05|        10410997871|\n",
      "|   TSM|         141.61|        12506470104|\n",
      "|   SPY|         479.22|       107925285300|\n",
      "|   QQQ|         405.57|        60437153773|\n",
      "+------+---------------+-------------------+\n",
      "\n"
     ]
    }
   ],
   "source": [
    "# Max Stock price and total volume traded for various stocks\n",
    "cleaned_stocks.groupBy(\"Ticker\") \\\n",
    "              .agg(\n",
    "                  func.max(\"Open\").alias(\"Max Stock Price\"),\n",
    "                  func.sum(\"Volume\").alias(\"Total Traded Volume\")\n",
    "              )\\\n",
    "              .show() "
   ]
  },
  {
   "cell_type": "code",
   "execution_count": 15,
   "id": "63f05de2-8fbe-4f9e-8e52-6ba1cabe53d8",
   "metadata": {},
   "outputs": [
    {
     "name": "stdout",
     "output_type": "stream",
     "text": [
      "+------+----+-----------+----------+\n",
      "|Ticker|Year|Yearly High|Yearly Low|\n",
      "+------+----+-----------+----------+\n",
      "|  AAPL|2018|      58.37|     36.65|\n",
      "|  AAPL|2019|      73.49|      35.5|\n",
      "|  AAPL|2020|     138.79|     53.15|\n",
      "|  AAPL|2021|     182.13|    116.21|\n",
      "|  AAPL|2022|     182.94|    125.87|\n",
      "|  AAPL|2023|     179.35|    124.17|\n",
      "|  AMZN|2018|     102.53|     65.35|\n",
      "|  AMZN|2019|     101.79|     73.05|\n",
      "|  AMZN|2020|     177.61|      81.3|\n",
      "|  AMZN|2021|     188.65|    144.05|\n",
      "|  AMZN|2022|      171.4|     81.69|\n",
      "|  AMZN|2023|     122.92|     81.43|\n",
      "| BRK-B|2018|     224.07|    184.75|\n",
      "| BRK-B|2019|     228.23|    191.04|\n",
      "| BRK-B|2020|     234.99|     159.5|\n",
      "| BRK-B|2021|     301.65|     226.1|\n",
      "| BRK-B|2022|      362.1|    259.85|\n",
      "| BRK-B|2023|     333.94|    292.42|\n",
      "| GOOGL|2018|      64.57|     48.88|\n",
      "| GOOGL|2019|      68.35|     51.12|\n",
      "+------+----+-----------+----------+\n",
      "only showing top 20 rows\n",
      "\n"
     ]
    }
   ],
   "source": [
    "# Basic date manipulation functions => Calculate Yearly Highest and Lowest Price per Stock\n",
    "cleaned_stocks.withColumn(\"Year\", func.year(col(\"Date\"))) \\\n",
    "              .groupBy(\"Ticker\" ,\"Year\") \\\n",
    "              .agg(\n",
    "                  func.max(\"High\").alias(\"Yearly High\"),\n",
    "                  func.min(\"Low\").alias(\"Yearly Low\")\n",
    "              )\\\n",
    "              .orderBy(\"Ticker\", \"Year\") \\\n",
    "              .show()"
   ]
  },
  {
   "cell_type": "code",
   "execution_count": 16,
   "id": "33dc0b55-8506-4347-8423-006c52417280",
   "metadata": {},
   "outputs": [],
   "source": [
    "# Prepare data for export for monthly stock statistics including spread\n",
    "monthly_stock_statistics = (\n",
    "    cleaned_stocks\n",
    "        .withColumn(\"Year\", func.year(col(\"Date\")))  # Extract year\n",
    "        .withColumn(\"Month\", func.month(col(\"Date\")))  # Extract month\n",
    "        .groupBy(\"Ticker\", \"Year\", \"Month\")  # Group by Ticker, Year, and Month\n",
    "        .agg(\n",
    "            func.max(\"High\").alias(\"Monthly High\"),  # Get max High\n",
    "            func.min(\"Low\").alias(\"Monthly Low\")  # Get min Low\n",
    "        )\n",
    "        .orderBy(\"Ticker\", \"Year\", \"Month\")  # Order by Ticker,Year and Month\n",
    ")\n",
    "\n",
    "monthly_stock_statistics = monthly_stock_statistics.withColumn(\"Spread\", col(\"Monthly High\") - col(\"Monthly Low\"))"
   ]
  },
  {
   "cell_type": "code",
   "execution_count": 17,
   "id": "039311ac-c90e-4781-b546-c05adc3a75a4",
   "metadata": {},
   "outputs": [
    {
     "name": "stdout",
     "output_type": "stream",
     "text": [
      "+------+----+-----+------------+-----------+----------+\n",
      "|Ticker|Year|Month|Monthly High|Monthly Low|    Spread|\n",
      "+------+----+-----+------------+-----------+----------+\n",
      "|  AAPL|2018|    5|       47.06|      46.54|0.52000046|\n",
      "|  AAPL|2018|    6|       48.55|      45.18|  3.369999|\n",
      "|  AAPL|2018|    7|       48.99|      45.86|  3.130001|\n",
      "|  AAPL|2018|    8|       57.22|      49.33| 7.8899994|\n",
      "|  AAPL|2018|    9|       57.42|      53.83| 3.5899963|\n",
      "|  AAPL|2018|   10|       58.37|      51.52| 6.8499985|\n",
      "|  AAPL|2018|   11|       55.59|      42.57|     13.02|\n",
      "|  AAPL|2018|   12|       46.24|      36.65|      9.59|\n",
      "|  AAPL|2019|    1|       42.25|       35.5|      6.75|\n",
      "|  AAPL|2019|    2|       43.97|      41.48| 2.4900017|\n",
      "|  AAPL|2019|    3|       49.42|      42.38|  7.039997|\n",
      "|  AAPL|2019|    4|       52.12|       47.1| 5.0200005|\n",
      "|  AAPL|2019|    5|       53.83|      43.75| 10.080002|\n",
      "|  AAPL|2019|    6|       50.39|      42.57| 7.8199997|\n",
      "|  AAPL|2019|    7|       55.34|       49.6| 5.7400017|\n",
      "|  AAPL|2019|    8|       54.51|      48.15|  6.359997|\n",
      "|  AAPL|2019|    9|       56.61|      51.06|  5.549999|\n",
      "|  AAPL|2019|   10|       62.44|      53.78|      8.66|\n",
      "|  AAPL|2019|   11|        67.0|      62.29|  4.709999|\n",
      "|  AAPL|2019|   12|       73.49|      64.07|  9.419998|\n",
      "+------+----+-----+------------+-----------+----------+\n",
      "only showing top 20 rows\n",
      "\n"
     ]
    }
   ],
   "source": [
    "monthly_stock_statistics.show()"
   ]
  },
  {
   "cell_type": "markdown",
   "id": "d8d22739-3991-49d3-b4f4-75f6d2fd58d9",
   "metadata": {},
   "source": [
    "<span style=\"font-size:25px\"> __3. Advanced Analysis__"
   ]
  },
  {
   "cell_type": "code",
   "execution_count": 18,
   "id": "405b68c6-36fc-48a3-b2f9-ff8a36a98221",
   "metadata": {},
   "outputs": [
    {
     "name": "stdout",
     "output_type": "stream",
     "text": [
      "+------+----------+-------+------+------+------+----+-----+---+----+------+\n",
      "|Ticker|      Date| Volume|  Open|  High|   Low|Year|Month|Day|Week| Close|\n",
      "+------+----------+-------+------+------+------+----+-----+---+----+------+\n",
      "| BRK-B|2023-05-31|6175417|321.12|322.41|319.39|2023|    5| 31|  22|321.08|\n",
      "| BRK-B|2023-05-30|3232461|321.86|322.47| 319.0|2023|    5| 30|  22|322.19|\n",
      "| BRK-B|2023-05-26|3229873|320.44|322.63|319.67|2023|    5| 26|  21| 320.6|\n",
      "| BRK-B|2023-05-25|4251935|320.56|320.56|317.71|2023|    5| 25|  21|319.02|\n",
      "| BRK-B|2023-05-24|3075393|322.71| 323.0|319.56|2023|    5| 24|  21| 320.2|\n",
      "| BRK-B|2023-05-23|4031342|328.19|329.27|322.97|2023|    5| 23|  21|323.11|\n",
      "| BRK-B|2023-05-22|2763422|330.75|331.49|328.35|2023|    5| 22|  21|329.13|\n",
      "| BRK-B|2023-05-19|4323538| 331.0|333.94|329.12|2023|    5| 19|  20|330.39|\n",
      "| BRK-B|2023-05-18|2808329|326.87|329.98|325.85|2023|    5| 18|  20|329.76|\n",
      "| BRK-B|2023-05-17|3047626|325.02|328.26|324.82|2023|    5| 17|  20|327.39|\n",
      "| BRK-B|2023-05-16|2139996|322.46|324.69|322.36|2023|    5| 16|  20|323.75|\n",
      "| BRK-B|2023-05-15|2191609|322.89|323.83|320.13|2023|    5| 15|  20|323.53|\n",
      "| BRK-B|2023-05-12|1938264|323.82|324.24|320.54|2023|    5| 12|  19|322.49|\n",
      "| BRK-B|2023-05-11|2549339| 321.0|322.96|319.81|2023|    5| 11|  19|322.64|\n",
      "| BRK-B|2023-05-10|2641134|326.08|326.16|320.15|2023|    5| 10|  19|322.99|\n",
      "| BRK-B|2023-05-09|2285924|324.87|326.88|323.48|2023|    5|  9|  19|324.87|\n",
      "| BRK-B|2023-05-08|3303393|328.26|330.69|325.79|2023|    5|  8|  19|326.14|\n",
      "| BRK-B|2023-05-05|3876299|323.36|325.16|322.62|2023|    5|  5|  18|323.88|\n",
      "| BRK-B|2023-05-04|3194768|323.44|325.99|317.41|2023|    5|  4|  18| 320.0|\n",
      "| BRK-B|2023-05-03|2660456|327.13|328.07|323.06|2023|    5|  3|  18|323.22|\n",
      "+------+----------+-------+------+------+------+----+-----+---+----+------+\n",
      "only showing top 20 rows\n",
      "\n"
     ]
    }
   ],
   "source": [
    "cleaned_stocks.show()"
   ]
  },
  {
   "cell_type": "code",
   "execution_count": 19,
   "id": "084ac762-535b-414a-8443-ed4b87581775",
   "metadata": {},
   "outputs": [],
   "source": [
    "snapshot = cleaned_stocks.select(\"Ticker\", \"Date\", \"Open\")"
   ]
  },
  {
   "cell_type": "code",
   "execution_count": 31,
   "id": "d5282c6d-483a-45ff-b643-2371d92d68d5",
   "metadata": {},
   "outputs": [],
   "source": [
    "# Preparing window condition for calculating moving average for the past 50 days\n",
    "moving_avg_window = Window.partitionBy(\"Ticker\").orderBy(\"Date\").rowsBetween(-50,0)"
   ]
  },
  {
   "cell_type": "code",
   "execution_count": 45,
   "id": "9e1da9e1-fdc4-4169-85ab-d7f2272b73a3",
   "metadata": {},
   "outputs": [],
   "source": [
    "# Calculate 5 day moving average and round it to two decimal points\n",
    "moving_average = (\n",
    "        snapshot.withColumn(\"MA50\", func.avg(\"Open\").over(moving_avg_window)) \\\n",
    "                .withColumn(\"MA50\", func.round(\"MA50\", 2)) \\\n",
    ")"
   ]
  },
  {
   "cell_type": "code",
   "execution_count": 46,
   "id": "eb3ade12-5d1a-4835-b3f0-b83b522be37d",
   "metadata": {},
   "outputs": [
    {
     "name": "stdout",
     "output_type": "stream",
     "text": [
      "+------+----------+-----+-----+\n",
      "|Ticker|      Date| Open| MA50|\n",
      "+------+----------+-----+-----+\n",
      "|  AAPL|2018-05-31|46.81|46.81|\n",
      "|  AAPL|2018-06-01| 47.0|46.91|\n",
      "|  AAPL|2018-06-04|47.91|47.24|\n",
      "|  AAPL|2018-06-05|48.27| 47.5|\n",
      "|  AAPL|2018-06-06|48.41|47.68|\n",
      "|  AAPL|2018-06-07|48.54|47.82|\n",
      "|  AAPL|2018-06-08|47.79|47.82|\n",
      "|  AAPL|2018-06-11|47.84|47.82|\n",
      "|  AAPL|2018-06-12|47.85|47.82|\n",
      "|  AAPL|2018-06-13|48.11|47.85|\n",
      "|  AAPL|2018-06-14|47.89|47.86|\n",
      "|  AAPL|2018-06-15|47.51|47.83|\n",
      "|  AAPL|2018-06-18|46.97|47.76|\n",
      "|  AAPL|2018-06-19|46.29|47.66|\n",
      "|  AAPL|2018-06-20|46.59|47.59|\n",
      "|  AAPL|2018-06-21|46.81|47.54|\n",
      "|  AAPL|2018-06-22|46.53|47.48|\n",
      "|  AAPL|2018-06-25|45.85|47.39|\n",
      "|  AAPL|2018-06-26|45.75| 47.3|\n",
      "|  AAPL|2018-06-27|46.31|47.25|\n",
      "+------+----------+-----+-----+\n",
      "only showing top 20 rows\n",
      "\n"
     ]
    }
   ],
   "source": [
    "moving_average.show()"
   ]
  },
  {
   "cell_type": "code",
   "execution_count": 30,
   "id": "4c1bdc44-d039-467d-a8f5-6951776cc205",
   "metadata": {},
   "outputs": [],
   "source": [
    "# Calculate top 5 highest stock prices for each stock in a year\n",
    "maximum_stocks = Window.partitionBy(\"Ticker\").orderBy(snapshot.Open.desc())"
   ]
  },
  {
   "cell_type": "code",
   "execution_count": 39,
   "id": "963688e4-da53-4322-b2e4-da35db35778e",
   "metadata": {},
   "outputs": [],
   "source": [
    "# Adding row_number column to rank stocks by Open price within each Ticker\n",
    "ranked_stocks = snapshot.withColumn(\"rank\",func.row_number().over(maximum_stocks))"
   ]
  },
  {
   "cell_type": "code",
   "execution_count": 40,
   "id": "9e957dab-ba63-4d05-8f9c-8f5194a712bf",
   "metadata": {},
   "outputs": [],
   "source": [
    "# Filter to get the top 5 stocks based on their Open price\n",
    "top_5_stocks = ranked_stocks.filter(col(\"rank\") <= 5)"
   ]
  },
  {
   "cell_type": "code",
   "execution_count": 42,
   "id": "b4e8a488-db6e-416c-a1a8-fb6439d921fc",
   "metadata": {},
   "outputs": [
    {
     "name": "stdout",
     "output_type": "stream",
     "text": [
      "+------+----------+------+----+\n",
      "|Ticker|      Date|  Open|rank|\n",
      "+------+----------+------+----+\n",
      "|  AAPL|2022-01-04|182.63|   1|\n",
      "|  AAPL|2021-12-13|181.12|   2|\n",
      "|  AAPL|2021-12-28|180.16|   3|\n",
      "|  AAPL|2022-01-05|179.61|   4|\n",
      "|  AAPL|2021-12-30|179.47|   5|\n",
      "|  AMZN|2021-07-12| 187.2|   1|\n",
      "|  AMZN|2021-07-09|186.13|   2|\n",
      "|  AMZN|2021-07-07|185.87|   3|\n",
      "|  AMZN|2021-11-19|185.63|   4|\n",
      "|  AMZN|2021-07-14|185.44|   5|\n",
      "| BRK-B|2022-03-29|361.39|   1|\n",
      "| BRK-B|2022-03-28|360.59|   2|\n",
      "| BRK-B|2022-03-31| 359.0|   3|\n",
      "| BRK-B|2022-03-30|354.66|   4|\n",
      "| BRK-B|2022-03-25| 353.9|   5|\n",
      "| GOOGL|2022-02-02|151.25|   1|\n",
      "| GOOGL|2021-11-19|149.98|   2|\n",
      "| GOOGL|2021-11-08|149.83|   3|\n",
      "| GOOGL|2021-11-22|149.33|   4|\n",
      "| GOOGL|2021-11-09|149.23|   5|\n",
      "+------+----------+------+----+\n",
      "only showing top 20 rows\n",
      "\n"
     ]
    }
   ],
   "source": [
    "# Show the result\n",
    "top_5_stocks.select(\"Ticker\", \"Date\", \"Open\", \"rank\").show()"
   ]
  },
  {
   "cell_type": "markdown",
   "id": "cc1acfe1-367d-440f-8ab6-2b26ac52c331",
   "metadata": {},
   "source": [
    "<span style=\"font-size:25px\"> __4. Saving the Data__"
   ]
  },
  {
   "cell_type": "markdown",
   "id": "1d28cb7f-d218-465e-a46e-acaf31c5f99c",
   "metadata": {},
   "source": [
    "<span style=\"font-size:15px\"> __CSV vs Parquet vs Avro__"
   ]
  },
  {
   "cell_type": "markdown",
   "id": "6421ee46-b837-43fd-a9a8-59f06f5e3d2b",
   "metadata": {},
   "source": [
    "|                 |CSV              | Avro            | Parquet         |\n",
    "|-----------------|-----------------|-----------------|-----------------|\n",
    "|Columnar         | No              | No              | Yes             |\n",
    "|Compressable     | Yes             | Yes             | Yes             |\n",
    "|Human Readable   | Yes             | No              | Yes             |\n",
    "|Schema           | No              | Yes             | Yes             |"
   ]
  },
  {
   "cell_type": "code",
   "execution_count": 49,
   "id": "3f5ecfd2-9f0a-4621-83b1-d99ee2dc5623",
   "metadata": {},
   "outputs": [],
   "source": [
    "# Parquet\n",
    "(moving_average.write.option(\"header\", True)\n",
    "               .partitionBy(\"Ticker\")\n",
    "               .mode(\"overwrite\")\n",
    "               .parquet(\"ma50_results_parquet\"))"
   ]
  },
  {
   "cell_type": "code",
   "execution_count": 50,
   "id": "0e8671eb-d825-4859-82c0-b6c16de67dbf",
   "metadata": {},
   "outputs": [],
   "source": [
    "# CSV\n",
    "(top_5_stocks.write.option(\"header\", True)\n",
    "             .mode(\"overwrite\")\n",
    "             .csv(\"stock_results_csv\"))"
   ]
  }
 ],
 "metadata": {
  "kernelspec": {
   "display_name": "Python 3 (ipykernel)",
   "language": "python",
   "name": "python3"
  },
  "language_info": {
   "codemirror_mode": {
    "name": "ipython",
    "version": 3
   },
   "file_extension": ".py",
   "mimetype": "text/x-python",
   "name": "python",
   "nbconvert_exporter": "python",
   "pygments_lexer": "ipython3",
   "version": "3.9.6"
  }
 },
 "nbformat": 4,
 "nbformat_minor": 5
}
